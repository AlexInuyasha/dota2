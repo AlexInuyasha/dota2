{
 "cells": [
  {
   "cell_type": "code",
   "execution_count": 1,
   "metadata": {},
   "outputs": [
    {
     "name": "stdout",
     "output_type": "stream",
     "text": [
      "https://api.opendota.com/api/heroes\n"
     ]
    },
    {
     "data": {
      "text/html": [
       "<div>\n",
       "<style scoped>\n",
       "    .dataframe tbody tr th:only-of-type {\n",
       "        vertical-align: middle;\n",
       "    }\n",
       "\n",
       "    .dataframe tbody tr th {\n",
       "        vertical-align: top;\n",
       "    }\n",
       "\n",
       "    .dataframe thead th {\n",
       "        text-align: right;\n",
       "    }\n",
       "</style>\n",
       "<table border=\"1\" class=\"dataframe\">\n",
       "  <thead>\n",
       "    <tr style=\"text-align: right;\">\n",
       "      <th></th>\n",
       "      <th>id</th>\n",
       "      <th>name</th>\n",
       "      <th>localized_name</th>\n",
       "      <th>primary_attr</th>\n",
       "      <th>attack_type</th>\n",
       "      <th>roles</th>\n",
       "      <th>legs</th>\n",
       "    </tr>\n",
       "  </thead>\n",
       "  <tbody>\n",
       "    <tr>\n",
       "      <th>0</th>\n",
       "      <td>1</td>\n",
       "      <td>npc_dota_hero_antimage</td>\n",
       "      <td>Anti-Mage</td>\n",
       "      <td>agi</td>\n",
       "      <td>Melee</td>\n",
       "      <td>[Carry, Escape, Nuker]</td>\n",
       "      <td>2</td>\n",
       "    </tr>\n",
       "    <tr>\n",
       "      <th>1</th>\n",
       "      <td>2</td>\n",
       "      <td>npc_dota_hero_axe</td>\n",
       "      <td>Axe</td>\n",
       "      <td>str</td>\n",
       "      <td>Melee</td>\n",
       "      <td>[Initiator, Durable, Disabler, Jungler, Carry]</td>\n",
       "      <td>2</td>\n",
       "    </tr>\n",
       "    <tr>\n",
       "      <th>2</th>\n",
       "      <td>3</td>\n",
       "      <td>npc_dota_hero_bane</td>\n",
       "      <td>Bane</td>\n",
       "      <td>int</td>\n",
       "      <td>Ranged</td>\n",
       "      <td>[Support, Disabler, Nuker, Durable]</td>\n",
       "      <td>4</td>\n",
       "    </tr>\n",
       "  </tbody>\n",
       "</table>\n",
       "</div>"
      ],
      "text/plain": [
       "   id                    name localized_name primary_attr attack_type  \\\n",
       "0   1  npc_dota_hero_antimage      Anti-Mage          agi       Melee   \n",
       "1   2       npc_dota_hero_axe            Axe          str       Melee   \n",
       "2   3      npc_dota_hero_bane           Bane          int      Ranged   \n",
       "\n",
       "                                            roles  legs  \n",
       "0                          [Carry, Escape, Nuker]     2  \n",
       "1  [Initiator, Durable, Disabler, Jungler, Carry]     2  \n",
       "2             [Support, Disabler, Nuker, Durable]     4  "
      ]
     },
     "execution_count": 1,
     "metadata": {},
     "output_type": "execute_result"
    }
   ],
   "source": [
    "import requests\n",
    "import pandas as pd\n",
    "\n",
    "Opendota_api_heros_url = \"https://api.opendota.com/api/heroes\"\n",
    "print(Opendota_api_heros_url)\n",
    "r = requests.get(Opendota_api_heros_url, timeout=3)\n",
    "r_json = r.json()\n",
    "en_hero_df = pd.DataFrame(r_json)\n",
    "en_hero_df.head(3)"
   ]
  },
  {
   "cell_type": "code",
   "execution_count": 2,
   "metadata": {},
   "outputs": [
    {
     "data": {
      "text/html": [
       "<div>\n",
       "<style scoped>\n",
       "    .dataframe tbody tr th:only-of-type {\n",
       "        vertical-align: middle;\n",
       "    }\n",
       "\n",
       "    .dataframe tbody tr th {\n",
       "        vertical-align: top;\n",
       "    }\n",
       "\n",
       "    .dataframe thead th {\n",
       "        text-align: right;\n",
       "    }\n",
       "</style>\n",
       "<table border=\"1\" class=\"dataframe\">\n",
       "  <thead>\n",
       "    <tr style=\"text-align: right;\">\n",
       "      <th></th>\n",
       "      <th>ingame_name</th>\n",
       "      <th>id</th>\n",
       "      <th>hero_name</th>\n",
       "      <th>hero_id</th>\n",
       "      <th>en_official_name</th>\n",
       "      <th>primary_attr</th>\n",
       "      <th>attack_type</th>\n",
       "      <th>roles</th>\n",
       "      <th>legs</th>\n",
       "    </tr>\n",
       "  </thead>\n",
       "  <tbody>\n",
       "    <tr>\n",
       "      <th>0</th>\n",
       "      <td>npc_dota_hero_antimage</td>\n",
       "      <td>1</td>\n",
       "      <td>敌法师</td>\n",
       "      <td>1</td>\n",
       "      <td>Anti-Mage</td>\n",
       "      <td>agi</td>\n",
       "      <td>Melee</td>\n",
       "      <td>[Carry, Escape, Nuker]</td>\n",
       "      <td>2</td>\n",
       "    </tr>\n",
       "    <tr>\n",
       "      <th>1</th>\n",
       "      <td>npc_dota_hero_axe</td>\n",
       "      <td>2</td>\n",
       "      <td>斧王</td>\n",
       "      <td>2</td>\n",
       "      <td>Axe</td>\n",
       "      <td>str</td>\n",
       "      <td>Melee</td>\n",
       "      <td>[Initiator, Durable, Disabler, Jungler, Carry]</td>\n",
       "      <td>2</td>\n",
       "    </tr>\n",
       "    <tr>\n",
       "      <th>2</th>\n",
       "      <td>npc_dota_hero_bane</td>\n",
       "      <td>3</td>\n",
       "      <td>祸乱之源</td>\n",
       "      <td>3</td>\n",
       "      <td>Bane</td>\n",
       "      <td>int</td>\n",
       "      <td>Ranged</td>\n",
       "      <td>[Support, Disabler, Nuker, Durable]</td>\n",
       "      <td>4</td>\n",
       "    </tr>\n",
       "  </tbody>\n",
       "</table>\n",
       "</div>"
      ],
      "text/plain": [
       "              ingame_name  id hero_name  hero_id en_official_name  \\\n",
       "0  npc_dota_hero_antimage   1       敌法师        1        Anti-Mage   \n",
       "1       npc_dota_hero_axe   2        斧王        2              Axe   \n",
       "2      npc_dota_hero_bane   3      祸乱之源        3             Bane   \n",
       "\n",
       "  primary_attr attack_type                                           roles  \\\n",
       "0          agi       Melee                          [Carry, Escape, Nuker]   \n",
       "1          str       Melee  [Initiator, Durable, Disabler, Jungler, Carry]   \n",
       "2          int      Ranged             [Support, Disabler, Nuker, Durable]   \n",
       "\n",
       "   legs  \n",
       "0     2  \n",
       "1     2  \n",
       "2     4  "
      ]
     },
     "execution_count": 2,
     "metadata": {},
     "output_type": "execute_result"
    }
   ],
   "source": [
    "en_hero_df=en_hero_df.rename(columns={\"localized_name\": \"en_official_name\", \"id\": \"hero_id\", \"name\": \"ingame_name\"})\n",
    "\n",
    "Steam_key = '15CC480338F0DD1DB2E875618D8072F2'\n",
    "Valve_api_get_heros_url = f\"https://api.steampowered.com/IEconDOTA2_570/GetHeroes/v0001/?key={Steam_key}&language=zh-cn\"\n",
    "\n",
    "r = requests.get(Valve_api_get_heros_url, timeout=3)\n",
    "r_json = r.json()\n",
    "cn_hero_df = pd.DataFrame(r_json[\"result\"][\"heroes\"])\n",
    "\n",
    "hero_df = pd.merge(cn_hero_df.rename(columns = {'name':'ingame_name','localized_name':'hero_name'}),en_hero_df,on='ingame_name')\n",
    "hero_df.head(3)"
   ]
  },
  {
   "cell_type": "code",
   "execution_count": 3,
   "metadata": {},
   "outputs": [
    {
     "data": {
      "text/html": [
       "<div>\n",
       "<style scoped>\n",
       "    .dataframe tbody tr th:only-of-type {\n",
       "        vertical-align: middle;\n",
       "    }\n",
       "\n",
       "    .dataframe tbody tr th {\n",
       "        vertical-align: top;\n",
       "    }\n",
       "\n",
       "    .dataframe thead th {\n",
       "        text-align: right;\n",
       "    }\n",
       "</style>\n",
       "<table border=\"1\" class=\"dataframe\">\n",
       "  <thead>\n",
       "    <tr style=\"text-align: right;\">\n",
       "      <th></th>\n",
       "      <th>hero_id</th>\n",
       "      <th>ingame_name</th>\n",
       "      <th>en_official_name</th>\n",
       "      <th>primary_attr</th>\n",
       "      <th>attack_type</th>\n",
       "      <th>legs</th>\n",
       "      <th>hero_name</th>\n",
       "    </tr>\n",
       "  </thead>\n",
       "  <tbody>\n",
       "    <tr>\n",
       "      <th>0</th>\n",
       "      <td>1</td>\n",
       "      <td>npc_dota_hero_antimage</td>\n",
       "      <td>Anti-Mage</td>\n",
       "      <td>agi</td>\n",
       "      <td>Melee</td>\n",
       "      <td>2</td>\n",
       "      <td>敌法师</td>\n",
       "    </tr>\n",
       "    <tr>\n",
       "      <th>1</th>\n",
       "      <td>2</td>\n",
       "      <td>npc_dota_hero_axe</td>\n",
       "      <td>Axe</td>\n",
       "      <td>str</td>\n",
       "      <td>Melee</td>\n",
       "      <td>2</td>\n",
       "      <td>斧王</td>\n",
       "    </tr>\n",
       "    <tr>\n",
       "      <th>2</th>\n",
       "      <td>3</td>\n",
       "      <td>npc_dota_hero_bane</td>\n",
       "      <td>Bane</td>\n",
       "      <td>int</td>\n",
       "      <td>Ranged</td>\n",
       "      <td>4</td>\n",
       "      <td>祸乱之源</td>\n",
       "    </tr>\n",
       "  </tbody>\n",
       "</table>\n",
       "</div>"
      ],
      "text/plain": [
       "   hero_id             ingame_name en_official_name primary_attr attack_type  \\\n",
       "0        1  npc_dota_hero_antimage        Anti-Mage          agi       Melee   \n",
       "1        2       npc_dota_hero_axe              Axe          str       Melee   \n",
       "2        3      npc_dota_hero_bane             Bane          int      Ranged   \n",
       "\n",
       "   legs hero_name  \n",
       "0     2       敌法师  \n",
       "1     2        斧王  \n",
       "2     4      祸乱之源  "
      ]
     },
     "execution_count": 3,
     "metadata": {},
     "output_type": "execute_result"
    }
   ],
   "source": [
    "\n",
    "df2 = hero_df.loc[:,['hero_id', 'ingame_name', 'en_official_name', 'primary_attr',\n",
    "               'attack_type', 'legs', 'hero_name']]\n",
    "df2.head(3)"
   ]
  },
  {
   "cell_type": "markdown",
   "metadata": {},
   "source": [
    "前面是拉去了所有英雄信息，后面会拉去比赛记录把每场比赛的阵容给展示出来"
   ]
  },
  {
   "cell_type": "code",
   "execution_count": 4,
   "metadata": {},
   "outputs": [
    {
     "name": "stdout",
     "output_type": "stream",
     "text": [
      "https://api.opendota.com/api/explorer?sql=SELECT matches.match_id, picks_bans FROM matches WHERE matches.match_id = '6227492909' AND matches.start_time >= extract(epoch from timestamp '2021-09-30T16:00:00.000Z')\n"
     ]
    }
   ],
   "source": [
    "Opendota_heros_sql = \"SELECT matches.match_id, picks_bans FROM matches WHERE matches.match_id = '6227492909' AND matches.start_time >= extract(epoch from timestamp '2021-09-30T16:00:00.000Z')\"\n",
    "Opendota_heros_sqlquery_url = \"https://api.opendota.com/api/explorer?sql=\" + Opendota_heros_sql\n",
    "print(Opendota_heros_sqlquery_url)\n",
    "r = requests.get(Opendota_heros_sqlquery_url, timeout=3)\n",
    "r_json = r.json()"
   ]
  },
  {
   "cell_type": "code",
   "execution_count": 5,
   "metadata": {},
   "outputs": [
    {
     "data": {
      "text/plain": [
       "[{'is_pick': True, 'hero_id': 19, 'team': 1, 'order': 4},\n",
       " {'is_pick': True, 'hero_id': 97, 'team': 0, 'order': 5},\n",
       " {'is_pick': True, 'hero_id': 3, 'team': 0, 'order': 6},\n",
       " {'is_pick': True, 'hero_id': 77, 'team': 1, 'order': 7},\n",
       " {'is_pick': True, 'hero_id': 112, 'team': 0, 'order': 14},\n",
       " {'is_pick': True, 'hero_id': 23, 'team': 1, 'order': 15},\n",
       " {'is_pick': True, 'hero_id': 101, 'team': 1, 'order': 16},\n",
       " {'is_pick': True, 'hero_id': 106, 'team': 0, 'order': 17},\n",
       " {'is_pick': True, 'hero_id': 58, 'team': 1, 'order': 22},\n",
       " {'is_pick': True, 'hero_id': 109, 'team': 0, 'order': 23}]"
      ]
     },
     "execution_count": 5,
     "metadata": {},
     "output_type": "execute_result"
    }
   ],
   "source": [
    "\n",
    "r_json[\"rows\"][0][\"picks_bans\"]\n",
    "r_json_new = [x for x in r_json[\"rows\"][0][\"picks_bans\"] if x[\"is_pick\"] == True]\n",
    "r_json_new"
   ]
  },
  {
   "cell_type": "code",
   "execution_count": 8,
   "metadata": {},
   "outputs": [
    {
     "data": {
      "text/plain": [
       "[{'is_pick': True, 'hero_id': 19, 'team': 1, 'order': 4},\n",
       " {'is_pick': True, 'hero_id': 77, 'team': 1, 'order': 7},\n",
       " {'is_pick': True, 'hero_id': 23, 'team': 1, 'order': 15},\n",
       " {'is_pick': True, 'hero_id': 101, 'team': 1, 'order': 16},\n",
       " {'is_pick': True, 'hero_id': 58, 'team': 1, 'order': 22}]"
      ]
     },
     "execution_count": 8,
     "metadata": {},
     "output_type": "execute_result"
    }
   ],
   "source": [
    "radiant_lanes = [ bp for bp in r_json_new if 1 == bp['team']]\n",
    "radiant_lanes"
   ]
  },
  {
   "cell_type": "code",
   "execution_count": 11,
   "metadata": {},
   "outputs": [
    {
     "data": {
      "text/plain": [
       "[{'is_pick': True, 'hero_id': 97, 'team': 0, 'order': 5},\n",
       " {'is_pick': True, 'hero_id': 3, 'team': 0, 'order': 6},\n",
       " {'is_pick': True, 'hero_id': 112, 'team': 0, 'order': 14},\n",
       " {'is_pick': True, 'hero_id': 106, 'team': 0, 'order': 17},\n",
       " {'is_pick': True, 'hero_id': 109, 'team': 0, 'order': 23}]"
      ]
     },
     "execution_count": 11,
     "metadata": {},
     "output_type": "execute_result"
    }
   ],
   "source": [
    "dire_lanes = [ bp for bp in r_json_new if bp['team'] == 0 ]\n",
    "dire_lanes"
   ]
  },
  {
   "cell_type": "code",
   "execution_count": null,
   "metadata": {},
   "outputs": [],
   "source": []
  }
 ],
 "metadata": {
  "kernelspec": {
   "display_name": "Python 3",
   "language": "python",
   "name": "python3"
  },
  "language_info": {
   "codemirror_mode": {
    "name": "ipython",
    "version": 3
   },
   "file_extension": ".py",
   "mimetype": "text/x-python",
   "name": "python",
   "nbconvert_exporter": "python",
   "pygments_lexer": "ipython3",
   "version": "3.8.8"
  },
  "toc-autonumbering": true,
  "toc-showcode": false
 },
 "nbformat": 4,
 "nbformat_minor": 4
}
